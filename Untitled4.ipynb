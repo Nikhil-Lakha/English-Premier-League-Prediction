{
  "nbformat": 4,
  "nbformat_minor": 0,
  "metadata": {
    "colab": {
      "provenance": [],
      "authorship_tag": "ABX9TyPxGGVfx7Bk/gYfCKokbY2K",
      "include_colab_link": true
    },
    "kernelspec": {
      "name": "python3",
      "display_name": "Python 3"
    },
    "language_info": {
      "name": "python"
    }
  },
  "cells": [
    {
      "cell_type": "markdown",
      "metadata": {
        "id": "view-in-github",
        "colab_type": "text"
      },
      "source": [
        "<a href=\"https://colab.research.google.com/github/Nikhil-Lakha/English-Premier-League-Prediction/blob/master/Untitled4.ipynb\" target=\"_parent\"><img src=\"https://colab.research.google.com/assets/colab-badge.svg\" alt=\"Open In Colab\"/></a>"
      ]
    },
    {
      "cell_type": "code",
      "execution_count": null,
      "metadata": {
        "id": "tcuDLCZy7eGv"
      },
      "outputs": [],
      "source": [
        "import tkinter as tk\n",
        "from tkinter import filedialog, messagebox\n",
        "import hashlib\n",
        "\n",
        "# Function to generate SHA256 hash\n",
        "def generate_hash(input_string):\n",
        "    sha256 = hashlib.sha256()\n",
        "    sha256.update(input_string.encode('utf-8'))\n",
        "    return sha256.hexdigest()\n",
        "\n",
        "# Function to handle file upload\n",
        "def upload_file():\n",
        "    file_path = filedialog.askopenfilename()\n",
        "    if file_path:\n",
        "        with open(file_path, 'r') as file:\n",
        "            content = file.read()\n",
        "            hashed_content = generate_hash(content)\n",
        "            messagebox.showinfo(\"Hash Result\", f\"The SHA256 hash of the file content is:\\n{hashed_content}\")\n",
        "\n",
        "# Create main application window\n",
        "root = tk.Tk()\n",
        "root.title(\"File Hasher\")\n",
        "\n",
        "# Create a button for file upload\n",
        "upload_button = tk.Button(root, text=\"Upload File\", command=upload_file)\n",
        "upload_button.pack(pady=20)\n",
        "\n",
        "# Run the Tkinter event loop\n",
        "root.mainloop()\n"
      ]
    }
  ]
}